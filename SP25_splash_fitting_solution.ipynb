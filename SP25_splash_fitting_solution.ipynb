{
 "cells": [
  {
   "cell_type": "markdown",
   "metadata": {},
   "source": [
    "# <b>SPLASH! Computational Physics </b>\n",
    "### Part 1: Curve Fitting"
   ]
  },
  {
   "cell_type": "markdown",
   "metadata": {},
   "source": [
    "<div class=\"alert alert-block alert-success\">\n",
    "<b> Exercise 1: Importing packages</b>\n",
    "\n",
    "Type and run (click the \"play\" button) the following lines: \n",
    "\n",
    "- import numpy as np \n",
    "- import scipy.optimize as opt\n",
    "- import matplotlib.pyplot as plt \n",
    "\n",
    "These \"packages\" will be used throughout this tutorial.</div> "
   ]
  },
  {
   "cell_type": "code",
   "execution_count": 27,
   "metadata": {},
   "outputs": [],
   "source": [
    "#Type solution to Exercise 1 here\n",
    "\n",
    "import numpy as np\n",
    "import scipy.optimize as opt\n",
    "import matplotlib.pyplot as plt"
   ]
  },
  {
   "cell_type": "markdown",
   "metadata": {},
   "source": [
    "***\n",
    "<b>Scenario:</b>  We want to measure the coefficient of static friction ($\\mu_s$) of a cork-wood pairing. "
   ]
  },
  {
   "cell_type": "markdown",
   "metadata": {},
   "source": [
    "![spring scale.png](<attachment:spring scale.png>)"
   ]
  },
  {
   "cell_type": "markdown",
   "metadata": {},
   "source": [
    "<div class=\"alert alert-block alert-info\">\n",
    "\n",
    "<b>Use the following equation to help you solve the upcoming exercises: </b> $$F_{pull,max} = \\mu_s F_N$$\n",
    "\n",
    "- $F_{pull,max}$ - the maximum force we can pull on the block with before it overcomes static friction and moves\n",
    "- $F_N$ - the normal force, which is equal to mg, where m is the mass of weights+block and g is the gravitational acceleration\n",
    "\n",
    "</div>\n",
    "\n",
    "***"
   ]
  },
  {
   "cell_type": "markdown",
   "metadata": {},
   "source": [
    "<div class=\"alert alert-block alert-success\">\n",
    "<b> Exercise 2: Defining a function in Python</b>\n",
    "\n",
    "Define a linear function called model_lin with two arguments, x (independent variable) and m (slope), which returns m*x"
   ]
  },
  {
   "cell_type": "code",
   "execution_count": 28,
   "metadata": {},
   "outputs": [],
   "source": [
    "#Type solution to Exercise 2 here\n",
    "\n",
    "def model_lin(x,m):\n",
    "    return m*x"
   ]
  },
  {
   "cell_type": "markdown",
   "metadata": {},
   "source": [
    "<div class=\"alert alert-block alert-success\">\n",
    "<b> Exercise 3: Qualitative question</b> \n",
    "\n",
    "In our friction equation, what is the x, m, and model_lin(x,m)?"
   ]
  },
  {
   "cell_type": "code",
   "execution_count": 29,
   "metadata": {},
   "outputs": [
    {
     "data": {
      "text/plain": [
       "'\\nType solution to Exercise 3 here\\n\\nx is F_N, m is mu_s, y is F_pull,max\\n'"
      ]
     },
     "execution_count": 29,
     "metadata": {},
     "output_type": "execute_result"
    }
   ],
   "source": [
    "\"\"\"\n",
    "Type solution to Exercise 3 here\n",
    "\n",
    "x is F_N, m is mu_s, y is F_pull,max\n",
    "\"\"\"\n"
   ]
  },
  {
   "cell_type": "markdown",
   "metadata": {},
   "source": [
    "After measuring $F_{pull,max}$ with six different sets of weights, we acquire the following data in Newtons:\n",
    "\n",
    "![spring constant table-2.png](<attachment:spring constant table-2.png>)\n",
    "\n",
    "Error arises from lack of measurement precision."
   ]
  },
  {
   "cell_type": "markdown",
   "metadata": {},
   "source": [
    "<div class=\"alert alert-block alert-success\">\n",
    "<b> Exercise 4: </b> \n",
    "\n",
    "Make 3 arrays (arrays are lists that allow arithmetic operations). Name the normal force data \"Fn,\" pulling force data \"Fp,\" and error in the pulling force data \"Fp_err.\" Normal force \"Fn\" is done as an example."
   ]
  },
  {
   "cell_type": "code",
   "execution_count": 30,
   "metadata": {},
   "outputs": [],
   "source": [
    "#Type solution to Exercise 4 here\n",
    "\n",
    "Fn = np.array([0.40, 0.79, 1.19, 1.38, 1.58, 1.97])\n",
    "Fp = np.array([0.17, 0.29, 0.40, 0.61, 0.62, 0.81])\n",
    "Fp_err = np.array([0.01, 0.02, 0.01, 0.02, 0.04, 0.02])\n"
   ]
  },
  {
   "cell_type": "markdown",
   "metadata": {},
   "source": [
    "<div class=\"alert alert-block alert-success\">\n",
    "<b> Exercise 5: Plotting a scatter plot</b> \n",
    "\n",
    "Google <b>plt.scatter</b> and click the first link that appears. Do you see this at the top of the page?\n",
    "\n",
    "![Screen Shot 2025-03-29 at 3.05.47 PM.png](<attachment:Screen Shot 2025-03-29 at 3.05.47 PM.png>)\n",
    "\n",
    "Use JUST the first two arguments of this function to plot $F_{N}$ vs. $F_{pull,max}$. Does it appear roughly linear?"
   ]
  },
  {
   "cell_type": "code",
   "execution_count": 31,
   "metadata": {},
   "outputs": [
    {
     "data": {
      "image/png": "[encoded data removed]",
      "text/plain": [
       "<Figure size 640x480 with 1 Axes>"
      ]
     },
     "metadata": {},
     "output_type": "display_data"
    }
   ],
   "source": [
    "#Type solution to Exercise 5 here. Leave the plt.show() line as it is.\n",
    "\n",
    "#WRITE HERE\n",
    "plt.scatter(Fn, Fp)\n",
    "plt.show()"
   ]
  },
  {
   "cell_type": "markdown",
   "metadata": {},
   "source": [
    "Let's now plot the same thing with errorbars added to each of these data points."
   ]
  },
  {
   "cell_type": "markdown",
   "metadata": {},
   "source": [
    "<div class=\"alert alert-block alert-success\">\n",
    "\n",
    "<b>Exercise 6: Plotting a scatter plot with error bars</b> \n",
    "\n",
    "Google <b>plt.errorbar</b> and click the first link that appears. Use the first five arguments of the function, but <b>SKIP xerr</b>, and use fmt='o', to plot $F_{N}$ vs. $F_{pull,max}$. You should see the same plot as before, but with error bars added to each data point. </div>"
   ]
  },
  {
   "cell_type": "code",
   "execution_count": 32,
   "metadata": {},
   "outputs": [
    {
     "data": {
      "image/png": "[encoded data removed]",
      "text/plain": [
       "<Figure size 640x480 with 1 Axes>"
      ]
     },
     "metadata": {},
     "output_type": "display_data"
    }
   ],
   "source": [
    "#Type solution to Exercise 6 here. Leave the plt.show() line as it is.\n",
    "\n",
    "plt.errorbar(Fn, Fp, yerr=Fp_err, fmt='o')\n",
    "plt.show()"
   ]
  },
  {
   "cell_type": "markdown",
   "metadata": {},
   "source": [
    "***\n",
    "Notice we can't just \"connect the dots\" of the experimental data to form a perfectly linear line. In order to find $\\mu_s$, we need to find the line of best fit. We define what is \"best\" using the method of <b>Least Squares:</b> a statistical model that determines the slope for a line by minimizing the sum of the square of residuals ($r_i$) (if you want to learn more about this, check out [this wikipedia page](https://en.wikipedia.org/wiki/Least_squares)). In other words, we want to minimize R:\n",
    "\n",
    "$$ R = \\sum_{i=1}^{N} r_i^2 = \\sum_{i=1}^{N} (y_i - (mx_i))^2$$\n",
    "\n",
    "where\n",
    "- $r_i$ is the residual, or the difference between theoretical and measured y values\n",
    "- $y_i$ is the measured y value\n",
    "- $mx_i$ is the theoretical y value\n",
    "- N is the number of data points\n",
    "\n",
    "![residuals.png](attachment:residuals.png)"
   ]
  },
  {
   "cell_type": "markdown",
   "metadata": {},
   "source": [
    "<div class=\"alert alert-block alert-success\">\n",
    "<b> Exercise 7: Residual calculation</b> \n",
    "\n",
    "Calculate the residual at $F_{N}$ = 0.4 N if m = 0.5."
   ]
  },
  {
   "cell_type": "code",
   "execution_count": 33,
   "metadata": {},
   "outputs": [
    {
     "data": {
      "text/plain": [
       "'\\nType solution to Exercise 7 here.\\n\\nFp(Fn=0.4N) - m*(0.4)\\n= 0.17 - 0.5*0.40 \\n= -0.03\\n'"
      ]
     },
     "execution_count": 33,
     "metadata": {},
     "output_type": "execute_result"
    }
   ],
   "source": [
    "\"\"\"\n",
    "Type solution to Exercise 7 here.\n",
    "\n",
    "Fp(Fn=0.4N) - m*(0.4)\n",
    "= 0.17 - 0.5*0.40 \n",
    "= -0.03\n",
    "\"\"\""
   ]
  },
  {
   "cell_type": "markdown",
   "metadata": {},
   "source": [
    "<div class=\"alert alert-block alert-success\">\n",
    "<b> Exercise 8: Line of best fit?</b> \n",
    "\n",
    "Copy over your solution from exercise 6 here. Add the following line before plt.show(): plt.plot(Fn, model_lin(Fn, 0.5)). This plots a line y = 0.5x over the earlier scatter plot. Are the data points evenly distributed about the line? In other words, <b> is it a good fit?</b>\n"
   ]
  },
  {
   "cell_type": "code",
   "execution_count": 34,
   "metadata": {},
   "outputs": [
    {
     "data": {
      "image/png": "[encoded data removed]",
      "text/plain": [
       "<Figure size 640x480 with 1 Axes>"
      ]
     },
     "metadata": {},
     "output_type": "display_data"
    }
   ],
   "source": [
    "#Type solution to Exercise 8 here.\n",
    "\n",
    "plt.errorbar(Fn, Fp, yerr=Fp_err, fmt='o')\n",
    "plt.plot(Fn, model_lin(Fn, 0.5))\n",
    "plt.show()"
   ]
  },
  {
   "cell_type": "markdown",
   "metadata": {},
   "source": [
    "We could keep guessing a slope that will yield the best fit, but there is a way to do this using the package scipy.optimize.\n",
    "\n",
    "<div class=\"alert alert-block alert-success\">\n",
    "<b> Exercise 9: Curve fitting</b> \n",
    "\n",
    "Google <b>opt.curve_fit</b> and click on the first link that appears. Do you see this at the top of the page?\n",
    "\n",
    "![scipy.png](attachment:scipy.png)\n",
    "\n",
    "Fill in the first five arguments below, but <b>SKIP p0</b>, using model_lin(x,m), Fn, Fp, and Fp_err."
   ]
  },
  {
   "cell_type": "code",
   "execution_count": 35,
   "metadata": {},
   "outputs": [],
   "source": [
    "#Type your solutions to Exercise 8 here. \n",
    "\n",
    "popt, pcov = opt.curve_fit(\n",
    "    model_lin, Fn, Fp, sigma=Fp_err\n",
    ")"
   ]
  },
  {
   "cell_type": "markdown",
   "metadata": {},
   "source": [
    "<div class=\"alert alert-block alert-info\">\n",
    "\n",
    "<b>popt</b> - 1D array of best fit parameter(s). In our case, it is $\\mu_s$\n",
    "\n",
    "<b>pcov</b> - NxN array called covariance matrix. Its diagonal elements are square of standard deviation."
   ]
  },
  {
   "cell_type": "markdown",
   "metadata": {},
   "source": [
    "<div class=\"alert alert-block alert-success\">\n",
    "<b> Exercise 9: What is the best fit slope and its standard deviation?</b> \n",
    "\n",
    "Print m and stdv to see what they are."
   ]
  },
  {
   "cell_type": "code",
   "execution_count": 36,
   "metadata": {},
   "outputs": [
    {
     "name": "stdout",
     "output_type": "stream",
     "text": [
      "[0.38143186]\n",
      "[0.01875795]\n"
     ]
    }
   ],
   "source": [
    "#Type your solutions to Exercise 9 here. Leave existing code as they are.\n",
    "\n",
    "m = popt\n",
    "stdv = np.sqrt(np.diagonal(pcov))\n",
    "\n",
    "#WRITE HERE\n",
    "print(m)\n",
    "print(stdv)"
   ]
  },
  {
   "cell_type": "markdown",
   "metadata": {},
   "source": [
    "<div class=\"alert alert-block alert-success\">\n",
    "<b> Exercise 10: </b> \n",
    "\n",
    "Plot a line with our new best fit slope over your first scatter plot from exercise 6. How does the fit compare to the earlier guess of m=0.5?\n",
    "\n",
    "Hint: replace 0.5 with m in your solution to exercise 8."
   ]
  },
  {
   "cell_type": "code",
   "execution_count": 37,
   "metadata": {},
   "outputs": [
    {
     "data": {
      "image/png": "[encoded data removed]",
      "text/plain": [
       "<Figure size 640x480 with 1 Axes>"
      ]
     },
     "metadata": {},
     "output_type": "display_data"
    }
   ],
   "source": [
    "#Type solutions to Exercise 10 here\n",
    "\n",
    "plt.errorbar(Fn, Fp, yerr=Fp_err, fmt='o')\n",
    "plt.plot(Fn, model_lin(Fn, m))\n",
    "plt.show()\n"
   ]
  },
  {
   "cell_type": "markdown",
   "metadata": {},
   "source": [
    "<div class=\"alert alert-block alert-info\">\n",
    "\n",
    "### <b>Real world application</b> \n",
    "\n",
    "The method we used in this notebook to find the best fit slope can be extended to nonlinear equations with more than one unknown parameter. Examples in the real world include, but are not limited to:\n",
    "\n",
    "1. <b>Oscillatory Systems:</b> Fitting damped or undamped sine waves to mechanical, electrical, or quantum oscillations.\n",
    "2. <b>Electronics:</b> Extracting small-signal parameters of transistors by fitting I-V characteristics in the linear regime.\n",
    "3. <b>Radioactive Decay:</b> Exponential fits to decay curves in nuclear physics experiments."
   ]
  },
  {
   "cell_type": "markdown",
   "metadata": {},
   "source": []
  }
 ],
 "metadata": {
  "kernelspec": {
   "display_name": "base",
   "language": "python",
   "name": "python3"
  },
  "language_info": {
   "codemirror_mode": {
    "name": "ipython",
    "version": 3
   },
   "file_extension": ".py",
   "mimetype": "text/x-python",
   "name": "python",
   "nbconvert_exporter": "python",
   "pygments_lexer": "ipython3",
   "version": "3.11.9"
  }
 },
 "nbformat": 4,
 "nbformat_minor": 2
}
